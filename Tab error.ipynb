{
 "cells": [
  {
   "cell_type": "code",
   "execution_count": 5,
   "id": "28499b4b-2d0c-497a-a496-2379b4979ae0",
   "metadata": {},
   "outputs": [
    {
     "ename": "IndentationError",
     "evalue": "unindent does not match any outer indentation level (<tokenize>, line 4)",
     "output_type": "error",
     "traceback": [
      "\u001b[1;36m  File \u001b[1;32m<tokenize>:4\u001b[1;36m\u001b[0m\n\u001b[1;33m    if user_input == 'true':\u001b[0m\n\u001b[1;37m    ^\u001b[0m\n\u001b[1;31mIndentationError\u001b[0m\u001b[1;31m:\u001b[0m unindent does not match any outer indentation level\n"
     ]
    }
   ],
   "source": [
    "def example_function():\n",
    "        user_input = input(\"Enter True or False: \").lower()  # Accept user input and convert to lowercase for case-insensitivity\n",
    "\n",
    "    if user_input == 'true':\n",
    "        print(\"This is indented with tabs.\")\n",
    "    else:\n",
    "        print(\"This is indented with spaces.\")\n",
    "\n",
    "# Call the function to see the output based on user input\n",
    "example_function()\n"
   ]
  },
  {
   "cell_type": "code",
   "execution_count": 2,
   "id": "096517e7-911a-45bf-9e60-50868ab84fc2",
   "metadata": {},
   "outputs": [
    {
     "name": "stdin",
     "output_type": "stream",
     "text": [
      "Enter True or False:  true\n"
     ]
    },
    {
     "name": "stdout",
     "output_type": "stream",
     "text": [
      "This is indented with tabs.\n"
     ]
    }
   ],
   "source": [
    "def example_function():\n",
    "    user_input = input(\"Enter True or False: \").lower()  # Accept user input and convert to lowercase for case-insensitivity\n",
    "\n",
    "    if user_input == 'true':\n",
    "        print(\"This is indented with tabs.\")\n",
    "    else:\n",
    "        print(\"This is indented with spaces.\")\n",
    "\n",
    "# Call the function to see the output based on user input\n",
    "example_function()\n"
   ]
  },
  {
   "cell_type": "code",
   "execution_count": 8,
   "id": "e01d84c7-9f6a-4bc1-9b39-552a1beeadee",
   "metadata": {},
   "outputs": [
    {
     "ename": "IndentationError",
     "evalue": "unexpected indent (330398978.py, line 7)",
     "output_type": "error",
     "traceback": [
      "\u001b[1;36m  Cell \u001b[1;32mIn[8], line 7\u001b[1;36m\u001b[0m\n\u001b[1;33m    print(\"Intentional Tab Error\")  # Indented with both tabs and spaces\u001b[0m\n\u001b[1;37m    ^\u001b[0m\n\u001b[1;31mIndentationError\u001b[0m\u001b[1;31m:\u001b[0m unexpected indent\n"
     ]
    }
   ],
   "source": [
    "def tab_error_example():\n",
    "    for i in range(5):\n",
    "        if i % 2 == 0:\n",
    "            print(f\"Even number: {i}\")\n",
    "        else:\n",
    "            print(f\"Odd number: {i}\")\n",
    "                print(\"Intentional Tab Error\")  # Indented with both tabs and spaces\n",
    "\n",
    "# Call the function to see the tab indentation error\n",
    "tab_error_example()\n"
   ]
  },
  {
   "cell_type": "code",
   "execution_count": 7,
   "id": "f341d20d-a269-488c-98e7-2eccf4a786ba",
   "metadata": {},
   "outputs": [
    {
     "name": "stdout",
     "output_type": "stream",
     "text": [
      "Even number: 0\n",
      "Odd number: 1\n",
      "Even number: 2\n",
      "Odd number: 3\n",
      "Even number: 4\n"
     ]
    }
   ],
   "source": [
    "def tab_error_example():\n",
    "    for i in range(5):\n",
    "        if i % 2 == 0:\n",
    "            print(f\"Even number: {i}\")\n",
    "        else:\n",
    "               print(f\"Odd number: {i}\")\n",
    "\n",
    "# Call the function to see the output\n",
    "tab_error_example()\n"
   ]
  },
  {
   "cell_type": "code",
   "execution_count": 12,
   "id": "501c72b4-e28d-406c-ba17-2d13efc7240a",
   "metadata": {},
   "outputs": [
    {
     "ename": "IndentationError",
     "evalue": "expected an indented block after 'else' statement on line 8 (2375988079.py, line 9)",
     "output_type": "error",
     "traceback": [
      "\u001b[1;36m  Cell \u001b[1;32mIn[12], line 9\u001b[1;36m\u001b[0m\n\u001b[1;33m    print(\"Inner loop - Second iteration\")  # Intentional Tab Error\u001b[0m\n\u001b[1;37m    ^\u001b[0m\n\u001b[1;31mIndentationError\u001b[0m\u001b[1;31m:\u001b[0m expected an indented block after 'else' statement on line 8\n"
     ]
    }
   ],
   "source": [
    "def complex_tab_error_example():\n",
    "    for i in range(3):\n",
    "        print(f\"Outer loop iteration: {i}\")\n",
    "        \n",
    "        for j in range(2):\n",
    "            if j == 0:\n",
    "                print(\"Inner loop - First iteration\")\n",
    "            else:\n",
    "    print(\"Inner loop - Second iteration\")  # Intentional Tab Error\n",
    "\n",
    "# Call the function to see the tab indentation error\n",
    "complex_tab_error_example()\n",
    "\n"
   ]
  },
  {
   "cell_type": "code",
   "execution_count": 9,
   "id": "044a85cc-f7ee-4c5b-9ccd-720e4b9ef033",
   "metadata": {},
   "outputs": [
    {
     "name": "stdout",
     "output_type": "stream",
     "text": [
      "Outer loop iteration: 0\n",
      "Inner loop - First iteration\n",
      "Inner loop - Second iteration\n",
      "Outer loop iteration: 1\n",
      "Inner loop - First iteration\n",
      "Inner loop - Second iteration\n",
      "Outer loop iteration: 2\n",
      "Inner loop - First iteration\n",
      "Inner loop - Second iteration\n"
     ]
    }
   ],
   "source": [
    "def complex_tab_error_example():\n",
    "    for i in range(3):\n",
    "        print(f\"Outer loop iteration: {i}\")\n",
    "        \n",
    "        for j in range(2):\n",
    "            if j == 0:\n",
    "                print(\"Inner loop - First iteration\")\n",
    "            else:\n",
    "                 print(\"Inner loop - Second iteration\")  # Intentional Tab Error\n",
    "\n",
    "# Call the function to see the tab indentation error\n",
    "complex_tab_error_example()\n"
   ]
  },
  {
   "cell_type": "code",
   "execution_count": 17,
   "id": "252f7fac-d757-47a4-bed1-747783589fef",
   "metadata": {},
   "outputs": [
    {
     "ename": "IndentationError",
     "evalue": "expected an indented block after 'if' statement on line 25 (2389850516.py, line 26)",
     "output_type": "error",
     "traceback": [
      "\u001b[1;36m  Cell \u001b[1;32mIn[17], line 26\u001b[1;36m\u001b[0m\n\u001b[1;33m    print(\"        Inner loop - Even iteration with spaces.\")\u001b[0m\n\u001b[1;37m    ^\u001b[0m\n\u001b[1;31mIndentationError\u001b[0m\u001b[1;31m:\u001b[0m expected an indented block after 'if' statement on line 25\n"
     ]
    }
   ],
   "source": [
    "def advanced_tab_error_example():\n",
    "    for i in range(3):\n",
    "        print(f\"Outer loop iteration: {i}\")\n",
    "\n",
    "        if i % 2 == 0:\n",
    "            print(\"Even iteration - calling a function with tabs.\")\n",
    "            tabbed_function()\n",
    "        else:\n",
    "            print(\"Odd iteration - calling a function with spaces.\")\n",
    "            spaced_function()\n",
    "\n",
    "def tabbed_function():\n",
    "\tprint(\"\tThis function is indented with tabs.\")\n",
    "\n",
    "\tfor i in range(2):\n",
    "\t\tif i % 2 == 0:\n",
    "\t\t\tprint(\"\t\tInner loop - Even iteration with tabs.\")\n",
    "\t\telse:\n",
    "\t\t\tprint(\"\t\tInner loop - Odd iteration with tabs.\")\n",
    "\n",
    "def spaced_function():\n",
    "    print(\"    This function is indented with spaces.\")\n",
    "\n",
    "    for i in range(2):\n",
    "        if i % 2 == 0:\n",
    "        print(\"        Inner loop - Even iteration with spaces.\")\n",
    "        else:\n",
    "        print(\"        Inner loop - Odd iteration with spaces.\")\n",
    "\n",
    "# Call the main function to see the tab indentation error\n",
    "advanced_tab_error_example()\n",
    "\n"
   ]
  },
  {
   "cell_type": "code",
   "execution_count": 15,
   "id": "e7bd263b-2a20-44b2-abc0-05c9b5aeb500",
   "metadata": {},
   "outputs": [
    {
     "name": "stdout",
     "output_type": "stream",
     "text": [
      "Outer loop iteration: 0\n",
      "Even iteration - calling a function with spaces.\n",
      "    This function is indented with spaces.\n",
      "        Inner loop - Even iteration with spaces.\n",
      "        Inner loop - Odd iteration with spaces.\n",
      "Outer loop iteration: 1\n",
      "Odd iteration - calling a function with spaces.\n",
      "    This function is indented with spaces.\n",
      "        Inner loop - Even iteration with spaces.\n",
      "        Inner loop - Odd iteration with spaces.\n",
      "Outer loop iteration: 2\n",
      "Even iteration - calling a function with spaces.\n",
      "    This function is indented with spaces.\n",
      "        Inner loop - Even iteration with spaces.\n",
      "        Inner loop - Odd iteration with spaces.\n"
     ]
    }
   ],
   "source": [
    "def advanced_tab_error_example():\n",
    "    for i in range(3):\n",
    "        print(f\"Outer loop iteration: {i}\")\n",
    "\n",
    "        if i % 2 == 0:\n",
    "            print(\"Even iteration - calling a function with spaces.\")\n",
    "            spaced_function()\n",
    "        else:\n",
    "            print(\"Odd iteration - calling a function with spaces.\")\n",
    "            spaced_function()\n",
    "\n",
    "def tabbed_function():\n",
    "    print(\"    This function is indented with spaces.\")\n",
    "\n",
    "    for i in range(2):\n",
    "        if i % 2 == 0:\n",
    "            print(\"        Inner loop - Even iteration with spaces.\")\n",
    "        else:\n",
    "            print(\"        Inner loop - Odd iteration with spaces.\")\n",
    "\n",
    "def spaced_function():\n",
    "    print(\"    This function is indented with spaces.\")\n",
    "\n",
    "    for i in range(2):\n",
    "        if i % 2 == 0:\n",
    "            print(\"        Inner loop - Even iteration with spaces.\")\n",
    "        else:\n",
    "            print(\"        Inner loop - Odd iteration with spaces.\")\n",
    "\n",
    "# Call the main function to see the output\n",
    "advanced_tab_error_example()\n"
   ]
  },
  {
   "cell_type": "code",
   "execution_count": null,
   "id": "f70ff4f7-8020-406f-a2bd-25ae44150ec9",
   "metadata": {},
   "outputs": [],
   "source": []
  }
 ],
 "metadata": {
  "kernelspec": {
   "display_name": "Python 3 (ipykernel)",
   "language": "python",
   "name": "python3"
  },
  "language_info": {
   "codemirror_mode": {
    "name": "ipython",
    "version": 3
   },
   "file_extension": ".py",
   "mimetype": "text/x-python",
   "name": "python",
   "nbconvert_exporter": "python",
   "pygments_lexer": "ipython3",
   "version": "3.11.0"
  }
 },
 "nbformat": 4,
 "nbformat_minor": 5
}

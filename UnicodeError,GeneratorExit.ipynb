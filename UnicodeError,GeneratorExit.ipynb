{
 "cells": [
  {
   "cell_type": "code",
   "execution_count": 1,
   "id": "813aec17",
   "metadata": {},
   "outputs": [
    {
     "name": "stdout",
     "output_type": "stream",
     "text": [
      "The number of characters (ignoring Unicode errors) in the string is: 37\n"
     ]
    }
   ],
   "source": [
    "def count_characters_ignore_errors(input_string):\n",
    "    count = 0\n",
    "\n",
    "    # Iterate through each character in the string\n",
    "    for char in input_string:\n",
    "        # Use encode with errors='ignore' to handle Unicode errors\n",
    "        encoded_char = char.encode('utf-8', errors='ignore')\n",
    "        \n",
    "        # Increment count by the number of valid characters\n",
    "        count += len(encoded_char)\n",
    "\n",
    "    return count\n",
    "\n",
    "# Test the function\n",
    "input_text = \"Hello, 世界! This is a test string.\"\n",
    "result = count_characters_ignore_errors(input_text)\n",
    "print(f\"The number of characters (ignoring Unicode errors) in the string is: {result}\")"
   ]
  },
  {
   "cell_type": "code",
   "execution_count": 6,
   "id": "37287c7c",
   "metadata": {},
   "outputs": [
    {
     "name": "stdout",
     "output_type": "stream",
     "text": [
      "UnicodeError: 'ascii' codec can't encode character '\\u4e16' in position 0: ordinal not in range(128)\n",
      "UnicodeError: 'ascii' codec can't encode character '\\u754c' in position 0: ordinal not in range(128)\n"
     ]
    }
   ],
   "source": [
    "#error code\n",
    "import sys\n",
    "\n",
    "def count_characters_ignore_errors(input_string):\n",
    "    count = 0\n",
    "\n",
    "    # Iterate through each character in the string\n",
    "    for char in input_string:\n",
    "        try:\n",
    "            # Intentionally introduce a UnicodeError by using an unsupported encoding\n",
    "            encoded_char = char.encode('ascii', errors='strict')\n",
    "            count += sys.getsizeof(encoded_char)\n",
    "        except UnicodeError as e:\n",
    "            # Handle UnicodeError here\n",
    "            print(f\"UnicodeError: {e}\")\n",
    "\n",
    "    return count\n",
    "\n",
    "# Test the function\n",
    "input_text = \"Hello, 世界! This is a test string.\"\n",
    "result = count_characters_ignore_errors(input_text)\n"
   ]
  },
  {
   "cell_type": "code",
   "execution_count": null,
   "id": "32d7bf3d",
   "metadata": {},
   "outputs": [],
   "source": [
    "#GeneratorExit"
   ]
  },
  {
   "cell_type": "code",
   "execution_count": null,
   "id": "857d9bc8",
   "metadata": {},
   "outputs": [],
   "source": []
  }
 ],
 "metadata": {
  "kernelspec": {
   "display_name": "Python 3 (ipykernel)",
   "language": "python",
   "name": "python3"
  },
  "language_info": {
   "codemirror_mode": {
    "name": "ipython",
    "version": 3
   },
   "file_extension": ".py",
   "mimetype": "text/x-python",
   "name": "python",
   "nbconvert_exporter": "python",
   "pygments_lexer": "ipython3",
   "version": "3.11.5"
  }
 },
 "nbformat": 4,
 "nbformat_minor": 5
}

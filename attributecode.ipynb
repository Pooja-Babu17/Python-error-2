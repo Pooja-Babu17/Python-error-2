{
 "cells": [
  {
   "cell_type": "code",
   "execution_count": 16,
   "id": "789ce416-9748-4a25-90ca-87b05410dab9",
   "metadata": {},
   "outputs": [
    {
     "ename": "AttributeError",
     "evalue": "'int' object has no attribute 'append'",
     "output_type": "error",
     "traceback": [
      "\u001b[1;31m---------------------------------------------------------------------------\u001b[0m",
      "\u001b[1;31mAttributeError\u001b[0m                            Traceback (most recent call last)",
      "Cell \u001b[1;32mIn[16], line 7\u001b[0m\n\u001b[0;32m      1\u001b[0m \u001b[38;5;66;03m# X is variable to be assigned the value 120\u001b[39;00m\n\u001b[0;32m      2\u001b[0m \u001b[38;5;66;03m#It is an integer.trying to append method on it, which is typically used with lists in Python.\u001b[39;00m\n\u001b[0;32m      6\u001b[0m X \u001b[38;5;241m=\u001b[39m \u001b[38;5;241m120\u001b[39m\n\u001b[1;32m----> 7\u001b[0m X\u001b[38;5;241m.\u001b[39mappend(\u001b[38;5;241m8\u001b[39m)\n",
      "\u001b[1;31mAttributeError\u001b[0m: 'int' object has no attribute 'append'"
     ]
    }
   ],
   "source": [
    "# X is variable to be assigned the value 120\n",
    "#It is an integer.trying to append method on it, which is typically used with lists in Python.\n",
    "X = 120\n",
    "X.append(8)"
   ]
  },
  {
   "cell_type": "code",
   "execution_count": 3,
   "id": "86c14d8e-641e-4785-8302-d13889246f5e",
   "metadata": {},
   "outputs": [
    {
     "name": "stdout",
     "output_type": "stream",
     "text": [
      "[120, 6]\n"
     ]
    }
   ],
   "source": [
    "X = [120]  \n",
    "X.append(6)\n",
    "print(X)"
   ]
  },
  {
   "cell_type": "code",
   "execution_count": 17,
   "id": "444c8f9e-7201-40f7-b2ad-e567dc8de305",
   "metadata": {},
   "outputs": [
    {
     "ename": "AttributeError",
     "evalue": "'str' object has no attribute 'append'",
     "output_type": "error",
     "traceback": [
      "\u001b[1;31m---------------------------------------------------------------------------\u001b[0m",
      "\u001b[1;31mAttributeError\u001b[0m                            Traceback (most recent call last)",
      "Cell \u001b[1;32mIn[17], line 6\u001b[0m\n\u001b[0;32m      4\u001b[0m FirstName\u001b[38;5;241m=\u001b[39m\u001b[38;5;124m\"\u001b[39m\u001b[38;5;124mShiva\u001b[39m\u001b[38;5;124m\"\u001b[39m\n\u001b[0;32m      5\u001b[0m LastName\u001b[38;5;241m=\u001b[39m\u001b[38;5;124m\"\u001b[39m\u001b[38;5;124mKumar\u001b[39m\u001b[38;5;124m\"\u001b[39m\n\u001b[1;32m----> 6\u001b[0m FirstName\u001b[38;5;241m.\u001b[39mappend(LastName)\n",
      "\u001b[1;31mAttributeError\u001b[0m: 'str' object has no attribute 'append'"
     ]
    }
   ],
   "source": [
    "#The variables FirstName and LastName are likely strings\n",
    "#Therefore, you cannot use the append method directly on strings.\n",
    "#connect first name and last name\n",
    "FirstName=\"Shiva\"\n",
    "LastName=\"Kumar\"\n",
    "FirstName.append(LastName)"
   ]
  },
  {
   "cell_type": "code",
   "execution_count": 5,
   "id": "43fb2833-9fb7-4e15-b57d-843931b6f8f9",
   "metadata": {},
   "outputs": [
    {
     "name": "stdout",
     "output_type": "stream",
     "text": [
      "ShivaKumar\n"
     ]
    }
   ],
   "source": [
    "FirstName = \"Shiva\"\n",
    "LastName = \"Kumar\"\n",
    "FullName = FirstName + LastName\n",
    "print(FullName)\n"
   ]
  },
  {
   "cell_type": "code",
   "execution_count": 6,
   "id": "88d17b59-73a2-4e8e-967c-cef7aad8a2e6",
   "metadata": {},
   "outputs": [
    {
     "name": "stdout",
     "output_type": "stream",
     "text": [
      "Shiva Kumar\n"
     ]
    }
   ],
   "source": [
    "FirstName = \"Shiva\"\n",
    "LastName = \"Kumar\"\n",
    "FullName = FirstName + \" \" + LastName\n",
    "print(FullName)\n"
   ]
  },
  {
   "cell_type": "code",
   "execution_count": 20,
   "id": "5c3c3d90-1cbf-429a-8fdc-76071553c17f",
   "metadata": {},
   "outputs": [],
   "source": [
    "#This line declares the class named MyClass\n",
    "#value parameter is used to initialize the value attribute of the instance.\n",
    "#An instance of MyClass is created by calling the constructor with the argument 42. This initializes the value attribute of the instance to the value provided (in this case, 42)\n",
    "\n",
    "\n",
    "class MyClass:\n",
    "    def __init__(self, value):\n",
    "        self.value = value\n",
    "\n",
    "# Attempting to access a non-existent attribute\n",
    "instance = MyClass(42)\n",
    "\n",
    "# Uncomment the line below to raise an AttributeError\n",
    "# non_existent_attribute = instance.non_existent_attribute\n"
   ]
  },
  {
   "cell_type": "code",
   "execution_count": 19,
   "id": "ce5dd411-8253-4881-b796-50c7d728aa3b",
   "metadata": {},
   "outputs": [
    {
     "name": "stdout",
     "output_type": "stream",
     "text": [
      "Value attribute: 42\n",
      "Non-existent attribute not found.\n"
     ]
    }
   ],
   "source": [
    "class MyClass:\n",
    "    def __init__(self, value):\n",
    "        self.value = value\n",
    "\n",
    "# Create an instance of MyClass\n",
    "instance = MyClass(42)\n",
    "\n",
    "# Accessing the 'value' attribute\n",
    "print(\"Value attribute:\", instance.value)\n",
    "\n",
    "# Attempting to access a non-existent attribute\n",
    "non_existent_attribute = getattr(instance, 'non_existent_attribute', None)\n",
    "\n",
    "# Print the result or handle the situation gracefully\n",
    "if non_existent_attribute is not None:\n",
    "    print(\"Non-existent attribute:\", non_existent_attribute)\n",
    "else:\n",
    "    print(\"Non-existent attribute not found.\")\n"
   ]
  },
  {
   "cell_type": "code",
   "execution_count": 9,
   "id": "b62c9eaa-e499-4c9a-ae8e-6eaaec6d085c",
   "metadata": {},
   "outputs": [
    {
     "ename": "AttributeError",
     "evalue": "'Plant' object has no attribute 'make_sound'",
     "output_type": "error",
     "traceback": [
      "\u001b[1;31m---------------------------------------------------------------------------\u001b[0m",
      "\u001b[1;31mAttributeError\u001b[0m                            Traceback (most recent call last)",
      "Cell \u001b[1;32mIn[9], line 18\u001b[0m\n\u001b[0;32m     15\u001b[0m flower \u001b[38;5;241m=\u001b[39m Plant(\u001b[38;5;124m\"\u001b[39m\u001b[38;5;124mRose\u001b[39m\u001b[38;5;124m\"\u001b[39m, \u001b[38;5;124m\"\u001b[39m\u001b[38;5;124mRed\u001b[39m\u001b[38;5;124m\"\u001b[39m)\n\u001b[0;32m     17\u001b[0m \u001b[38;5;66;03m# The following line will raise an AttributeError\u001b[39;00m\n\u001b[1;32m---> 18\u001b[0m flower\u001b[38;5;241m.\u001b[39mmake_sound()\n",
      "\u001b[1;31mAttributeError\u001b[0m: 'Plant' object has no attribute 'make_sound'"
     ]
    }
   ],
   "source": [
    "class Animal:\n",
    "    def __init__(self, species, sound):\n",
    "        self.species = species\n",
    "        self.sound = sound\n",
    "\n",
    "    def make_sound(self):\n",
    "        print(f\"The {self.species} makes a {self.sound}.\")\n",
    "\n",
    "class Plant:\n",
    "    def __init__(self, name, color):\n",
    "        self.name = name\n",
    "        self.color = color\n",
    "\n",
    "# Scenario: Trying to access the 'make_sound' method of a Plant without using try-except\n",
    "flower = Plant(\"Rose\", \"Red\")\n",
    "\n",
    "# The following line will raise an AttributeError\n",
    "flower.make_sound()\n"
   ]
  },
  {
   "cell_type": "code",
   "execution_count": 10,
   "id": "6257e43e-9829-4312-abe7-52056e4169ef",
   "metadata": {},
   "outputs": [
    {
     "name": "stdout",
     "output_type": "stream",
     "text": [
      "Plants don't make sounds.\n"
     ]
    }
   ],
   "source": [
    "class Animal:\n",
    "    def __init__(self, species, sound):\n",
    "        self.species = species\n",
    "        self.sound = sound\n",
    "\n",
    "    def make_sound(self):\n",
    "        print(f\"The {self.species} makes a {self.sound}.\")\n",
    "\n",
    "class Plant:\n",
    "    def __init__(self, name, color):\n",
    "        self.name = name\n",
    "        self.color = color\n",
    "\n",
    "# Scenario: Trying to access the 'make_sound' method of a Plant without using try-except\n",
    "flower = Plant(\"Rose\", \"Red\")\n",
    "\n",
    "# Corrected code to avoid AttributeError\n",
    "# Ensure that the method exists before calling it\n",
    "if hasattr(flower, 'make_sound'):\n",
    "    flower.make_sound()\n",
    "else:\n",
    "    print(\"Plants don't make sounds.\")\n"
   ]
  },
  {
   "cell_type": "code",
   "execution_count": 11,
   "id": "c68deb45-ce34-48ae-96dc-8ed43681aa97",
   "metadata": {},
   "outputs": [
    {
     "name": "stdout",
     "output_type": "stream",
     "text": [
      "Instance is None.\n"
     ]
    }
   ],
   "source": [
    "class MyClass:\n",
    "    def __init__(self, value):\n",
    "        self.value = value\n",
    "\n",
    "def access_attribute(instance):\n",
    "    # Check if the instance is not None before accessing the attribute\n",
    "    if instance is not None:\n",
    "        result = instance.some_attribute\n",
    "        print(f\"Attribute value: {result}\")\n",
    "    else:\n",
    "        print(\"Instance is None.\")\n",
    "\n",
    "# Create an instance with a None attribute\n",
    "my_instance = None\n",
    "\n",
    "# Call the function to access the attribute\n",
    "access_attribute(my_instance)\n"
   ]
  },
  {
   "cell_type": "code",
   "execution_count": 12,
   "id": "bb64df33-a968-47a6-8d78-651e8ab00033",
   "metadata": {},
   "outputs": [
    {
     "ename": "AttributeError",
     "evalue": "'NoneType' object has no attribute 'upper'",
     "output_type": "error",
     "traceback": [
      "\u001b[1;31m---------------------------------------------------------------------------\u001b[0m",
      "\u001b[1;31mAttributeError\u001b[0m                            Traceback (most recent call last)",
      "Cell \u001b[1;32mIn[12], line 7\u001b[0m\n\u001b[0;32m      4\u001b[0m \u001b[38;5;28;01mif\u001b[39;00m i \u001b[38;5;241m%\u001b[39m \u001b[38;5;241m2\u001b[39m \u001b[38;5;241m==\u001b[39m \u001b[38;5;241m0\u001b[39m:\n\u001b[0;32m      5\u001b[0m     name \u001b[38;5;241m=\u001b[39m \u001b[38;5;124m\"\u001b[39m\u001b[38;5;124myour are right\u001b[39m\u001b[38;5;124m\"\u001b[39m\n\u001b[1;32m----> 7\u001b[0m name\u001b[38;5;241m.\u001b[39mupper()\n",
      "\u001b[1;31mAttributeError\u001b[0m: 'NoneType' object has no attribute 'upper'"
     ]
    }
   ],
   "source": [
    "#This code snippet initializes a variable name with the value None \n",
    "#another variable i with the value 7\n",
    "#then checks if i is even \n",
    "#i is even, it assigns the string \"your are right\" to the name variable\n",
    "# remainder of the division of i by 2 is zero (i.e., if i is even)\n",
    "#e None has no upper()\n",
    "\n",
    "\n",
    "name = None\n",
    "i = 7\n",
    "\n",
    "if i % 2 == 0:\n",
    "    name = \"your are right\"\n",
    "\n",
    "name.upper()\n"
   ]
  },
  {
   "cell_type": "code",
   "execution_count": 13,
   "id": "1a86b71f-9b6b-49d0-a580-153778338bc8",
   "metadata": {},
   "outputs": [
    {
     "name": "stdout",
     "output_type": "stream",
     "text": [
      "Wrong answer\n"
     ]
    }
   ],
   "source": [
    "name = None\n",
    "i = 7\n",
    "\n",
    "if i % 2 == 0:\n",
    "    name = \"you are right\"\n",
    "\n",
    "# Check if name is not None before calling the upper() method\n",
    "if name is not None:\n",
    "    name_upper = name.upper()\n",
    "    print(name_upper)\n",
    "else:\n",
    "    print(\"Wrong answer\")\n"
   ]
  },
  {
   "cell_type": "code",
   "execution_count": 14,
   "id": "8cd0fa79-f461-4eed-b8b4-8a2450e17913",
   "metadata": {},
   "outputs": [
    {
     "ename": "AttributeError",
     "evalue": "module 'math' has no attribute 'square_root'",
     "output_type": "error",
     "traceback": [
      "\u001b[1;31m---------------------------------------------------------------------------\u001b[0m",
      "\u001b[1;31mAttributeError\u001b[0m                            Traceback (most recent call last)",
      "Cell \u001b[1;32mIn[14], line 3\u001b[0m\n\u001b[0;32m      1\u001b[0m \u001b[38;5;28;01mimport\u001b[39;00m \u001b[38;5;21;01mmath\u001b[39;00m\n\u001b[1;32m----> 3\u001b[0m result \u001b[38;5;241m=\u001b[39m math\u001b[38;5;241m.\u001b[39msquare_root(\u001b[38;5;241m25\u001b[39m)\n",
      "\u001b[1;31mAttributeError\u001b[0m: module 'math' has no attribute 'square_root'"
     ]
    }
   ],
   "source": [
    "#sqrt that calculates the square root of a given number.\n",
    "#math module don't have square_root\n",
    "#to calculate the square root of 25, and the result will be assigned to the variable result.\n",
    "import math\n",
    "\n",
    "result = math.square_root(25)  # AttributeError: module 'math' has no attribute 'square_root'\n"
   ]
  },
  {
   "cell_type": "code",
   "execution_count": 15,
   "id": "14cf4048-08ae-4ab9-bb33-d92258452d58",
   "metadata": {},
   "outputs": [
    {
     "name": "stdout",
     "output_type": "stream",
     "text": [
      "5.0\n"
     ]
    }
   ],
   "source": [
    "\n",
    "import math\n",
    "\n",
    "result = math.sqrt(25)\n",
    "print(result)  \n"
   ]
  },
  {
   "cell_type": "code",
   "execution_count": null,
   "id": "c56cc5f5-a6b8-4faf-af1b-68e876540c77",
   "metadata": {},
   "outputs": [],
   "source": []
  },
  {
   "cell_type": "code",
   "execution_count": null,
   "id": "937195a6-8a79-446e-af8f-2d75e1ac21aa",
   "metadata": {},
   "outputs": [],
   "source": []
  }
 ],
 "metadata": {
  "kernelspec": {
   "display_name": "Python 3 (ipykernel)",
   "language": "python",
   "name": "python3"
  },
  "language_info": {
   "codemirror_mode": {
    "name": "ipython",
    "version": 3
   },
   "file_extension": ".py",
   "mimetype": "text/x-python",
   "name": "python",
   "nbconvert_exporter": "python",
   "pygments_lexer": "ipython3",
   "version": "3.11.0"
  }
 },
 "nbformat": 4,
 "nbformat_minor": 5
}
